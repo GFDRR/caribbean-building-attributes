{
 "cells": [
  {
   "cell_type": "markdown",
   "id": "b098efeb-e369-43cf-b0c5-f4ae00fd908a",
   "metadata": {},
   "source": [
    "## Imports and Setup"
   ]
  },
  {
   "cell_type": "code",
   "execution_count": 1,
   "id": "ffe794d6-6208-4ec5-b291-e9e00fb0d5c0",
   "metadata": {},
   "outputs": [],
   "source": [
    "import os \n",
    "os.chdir('../')\n",
    "import yaml\n",
    "import numpy as np\n",
    "import geopandas as gpd\n",
    "from utils import model_utils\n",
    "\n",
    "%load_ext autoreload\n",
    "%autoreload 2"
   ]
  },
  {
   "cell_type": "markdown",
   "id": "9f7e77da-9635-4dce-a006-91eebd41fbf0",
   "metadata": {},
   "source": [
    "## File Locations"
   ]
  },
  {
   "cell_type": "code",
   "execution_count": 4,
   "id": "3275ae70-88ab-4c68-b766-4232872c7a05",
   "metadata": {},
   "outputs": [],
   "source": [
    "iso_code = \"VCT\"\n",
    "mode = \"aerial\"\n",
    "path_to_images = f\"data/aerial/raster/{iso_code}/tiles_{iso_code}/\"\n",
    "path_to_file = f\"data/aerial/vector/{iso_code}/train_{iso_code}.geojson\"\n",
    "path_to_embeddings = f\"data/aerial/vector/{iso_code}/embeddings/\"\n",
    "\n",
    "config_file = f\"configs/config.yaml\"\n",
    "with open(config_file, 'r') as stream:\n",
    "    config = yaml.safe_load(stream)"
   ]
  },
  {
   "cell_type": "markdown",
   "id": "3a4ed4d9-b2e6-40b4-9cd2-700b468a1036",
   "metadata": {},
   "source": [
    "## Load Dataset"
   ]
  },
  {
   "cell_type": "code",
   "execution_count": 7,
   "id": "5ffc487f-424c-4e19-93f2-1684fbaedc82",
   "metadata": {},
   "outputs": [
    {
     "name": "stdout",
     "output_type": "stream",
     "text": [
      "Total annotated: 3234\n",
      "roof_material\n",
      "healthy_metal      2311\n",
      "concrete/cement     425\n",
      "irregular_metal     349\n",
      "incomplete          149\n",
      "Name: count, dtype: int64\n",
      "roof_pitch\n",
      "gable      1701\n",
      "hip         900\n",
      "flat        497\n",
      "no_roof     136\n",
      "Name: count, dtype: int64\n"
     ]
    },
    {
     "data": {
      "text/html": [
       "<div>\n",
       "<style scoped>\n",
       "    .dataframe tbody tr th:only-of-type {\n",
       "        vertical-align: middle;\n",
       "    }\n",
       "\n",
       "    .dataframe tbody tr th {\n",
       "        vertical-align: top;\n",
       "    }\n",
       "\n",
       "    .dataframe thead th {\n",
       "        text-align: right;\n",
       "    }\n",
       "</style>\n",
       "<table border=\"1\" class=\"dataframe\">\n",
       "  <thead>\n",
       "    <tr style=\"text-align: right;\">\n",
       "      <th></th>\n",
       "      <th>UID</th>\n",
       "      <th>ghsl_smod</th>\n",
       "      <th>rurban</th>\n",
       "      <th>grid_id</th>\n",
       "      <th>filename</th>\n",
       "      <th>annotated</th>\n",
       "      <th>roof_material</th>\n",
       "      <th>roof_pitch</th>\n",
       "      <th>clean</th>\n",
       "      <th>duplicate</th>\n",
       "      <th>geometry</th>\n",
       "      <th>filepath</th>\n",
       "    </tr>\n",
       "  </thead>\n",
       "  <tbody>\n",
       "    <tr>\n",
       "      <th>0</th>\n",
       "      <td>5</td>\n",
       "      <td>13</td>\n",
       "      <td>rural</td>\n",
       "      <td>238</td>\n",
       "      <td>5_238.tif</td>\n",
       "      <td>True</td>\n",
       "      <td>healthy_metal</td>\n",
       "      <td>gable</td>\n",
       "      <td>True</td>\n",
       "      <td>False</td>\n",
       "      <td>POLYGON ((-61.2389 13.28349, -61.2389 13.28358...</td>\n",
       "      <td>data/aerial/raster/VCT/tiles_VCT/5_238.tif</td>\n",
       "    </tr>\n",
       "    <tr>\n",
       "      <th>1</th>\n",
       "      <td>120</td>\n",
       "      <td>13</td>\n",
       "      <td>rural</td>\n",
       "      <td>238</td>\n",
       "      <td>120_238.tif</td>\n",
       "      <td>True</td>\n",
       "      <td>irregular_metal</td>\n",
       "      <td>gable</td>\n",
       "      <td>True</td>\n",
       "      <td>False</td>\n",
       "      <td>POLYGON ((-61.2372 13.28367, -61.23717 13.2835...</td>\n",
       "      <td>data/aerial/raster/VCT/tiles_VCT/120_238.tif</td>\n",
       "    </tr>\n",
       "    <tr>\n",
       "      <th>2</th>\n",
       "      <td>322</td>\n",
       "      <td>13</td>\n",
       "      <td>rural</td>\n",
       "      <td>238</td>\n",
       "      <td>322_238.tif</td>\n",
       "      <td>True</td>\n",
       "      <td>healthy_metal</td>\n",
       "      <td>hip</td>\n",
       "      <td>True</td>\n",
       "      <td>False</td>\n",
       "      <td>POLYGON ((-61.23861 13.2851, -61.23858 13.2850...</td>\n",
       "      <td>data/aerial/raster/VCT/tiles_VCT/322_238.tif</td>\n",
       "    </tr>\n",
       "  </tbody>\n",
       "</table>\n",
       "</div>"
      ],
      "text/plain": [
       "   UID  ghsl_smod rurban  grid_id     filename  annotated    roof_material  \\\n",
       "0    5         13  rural      238    5_238.tif       True    healthy_metal   \n",
       "1  120         13  rural      238  120_238.tif       True  irregular_metal   \n",
       "2  322         13  rural      238  322_238.tif       True    healthy_metal   \n",
       "\n",
       "  roof_pitch  clean  duplicate  \\\n",
       "0      gable   True      False   \n",
       "1      gable   True      False   \n",
       "2        hip   True      False   \n",
       "\n",
       "                                            geometry  \\\n",
       "0  POLYGON ((-61.2389 13.28349, -61.2389 13.28358...   \n",
       "1  POLYGON ((-61.2372 13.28367, -61.23717 13.2835...   \n",
       "2  POLYGON ((-61.23861 13.2851, -61.23858 13.2850...   \n",
       "\n",
       "                                       filepath  \n",
       "0    data/aerial/raster/VCT/tiles_VCT/5_238.tif  \n",
       "1  data/aerial/raster/VCT/tiles_VCT/120_238.tif  \n",
       "2  data/aerial/raster/VCT/tiles_VCT/322_238.tif  "
      ]
     },
     "execution_count": 7,
     "metadata": {},
     "output_type": "execute_result"
    }
   ],
   "source": [
    "data = gpd.read_file(path_to_file).replace('nan', np.nan).dropna()\n",
    "data[\"filepath\"] = data[\"filename\"].apply(lambda x: os.path.join(path_to_images, x))\n",
    "print(f\"Total annotated: {data.shape[0]}\")\n",
    "for label in labels:\n",
    "    print(data[label].value_counts())\n",
    "data.head(3)"
   ]
  },
  {
   "cell_type": "code",
   "execution_count": 8,
   "id": "28b9f126-f180-429e-9306-26cac2d224f4",
   "metadata": {},
   "outputs": [
    {
     "name": "stderr",
     "output_type": "stream",
     "text": [
      "100%|██████████████████████████████████████████████████████████████████████████████| 3234/3234 [04:57<00:00, 10.88it/s]\n"
     ]
    }
   ],
   "source": [
    "model_name = \"ScaleMAE_FMOW_RGB\"\n",
    "embeddings = model_utils.generate_embeddings(\n",
    "    data=data,\n",
    "    image_dir=path_to_images,\n",
    "    out_dir=path_to_embeddings,\n",
    "    model_name=model_name\n",
    ")   "
   ]
  }
 ],
 "metadata": {
  "kernelspec": {
   "display_name": "gfdrr-dep",
   "language": "python",
   "name": "gfdrr-dep"
  },
  "language_info": {
   "codemirror_mode": {
    "name": "ipython",
    "version": 3
   },
   "file_extension": ".py",
   "mimetype": "text/x-python",
   "name": "python",
   "nbconvert_exporter": "python",
   "pygments_lexer": "ipython3",
   "version": "3.10.16"
  }
 },
 "nbformat": 4,
 "nbformat_minor": 5
}
